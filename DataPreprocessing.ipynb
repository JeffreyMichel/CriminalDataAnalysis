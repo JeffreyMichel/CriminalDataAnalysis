{
 "cells": [
  {
   "cell_type": "code",
   "execution_count": null,
   "id": "9727ac5f",
   "metadata": {},
   "outputs": [],
   "source": [
    "import os\n",
    "import pandas as pd\n",
    "import sqlite3"
   ]
  },
  {
   "cell_type": "markdown",
   "id": "2389cb2c",
   "metadata": {},
   "source": [
    "#### Combine downloaded data into one dataframe\n",
    "In order to facilitate analysis, I have combined all the data into a single file with the data points I am interested in. This way, I can just load the data in the future, rather than having to combine all the data every time."
   ]
  },
  {
   "cell_type": "code",
   "execution_count": null,
   "id": "feeb9ed0",
   "metadata": {},
   "outputs": [],
   "source": [
    "conn = sqlite3.connect(':memory:')\n",
    "\n",
    "# Define the root directory containing the folders\n",
    "root_dir = '.\\\\'\n",
    "\n",
    "# Initialize an empty list to store the DataFrames\n",
    "dataframes = []\n",
    "\n",
    "# Loop through each folder in the root directory\n",
    "for folder_name in os.listdir():\n",
    "    if '.' in folder_name:\n",
    "        continue\n",
    "    folder_path = os.path.join(folder_name)\n",
    "    \n",
    "    # Ensure the current path is a directory\n",
    "    if os.path.isdir(folder_path):\n",
    "        # Define the paths to the CSV files\n",
    "        nibrs_file_path = os.path.join(folder_path, 'NIBRS_ARRESTEE.csv')\n",
    "        ref_race_file_path = os.path.join(folder_path, 'REF_RACE.csv')\n",
    "\n",
    "        # Check if both files exist\n",
    "        if os.path.exists(nibrs_file_path) and os.path.exists(ref_race_file_path):\n",
    "            # Read the CSV files\n",
    "            nibrs_df = pd.read_csv(nibrs_file_path)\n",
    "            ref_race_df = pd.read_csv(ref_race_file_path)\n",
    "            \n",
    "            # Turn dataframes into sql tables for joining\n",
    "            nibrs_df.to_sql('table1', conn, index=False, if_exists='replace')\n",
    "            ref_race_df.to_sql('table2', conn, index=False, if_exists='replace')\n",
    "            \n",
    "            # Join the dataframes \n",
    "            query = \"\"\"\n",
    "            SELECT *\n",
    "            FROM table1\n",
    "            JOIN table2\n",
    "            ON table1.RACE_ID = table2.RACE_ID\n",
    "            \"\"\"\n",
    "            joined_df = pd.read_sql_query(query, conn)\n",
    "\n",
    "            # Add a new column with the state abbreviation\n",
    "            joined_df['State'] = folder_name\n",
    "            \n",
    "            # Append the joined dataframe to the list\n",
    "            dataframes.append(joined_df)\n",
    "\n",
    "# Concatenate all DataFrames in the list into a single DataFrame\n",
    "final_df = pd.concat(dataframes, ignore_index=True)\n",
    "\n",
    "# Save the concatenated DataFrame to a new CSV file\n",
    "output_file_path = os.path.join(root_dir, 'arrest_data_USA.csv')\n",
    "final_df.to_csv(output_file_path, index=False)\n",
    "\n",
    "print(f'Concatenated data saved to {output_file_path}')\n",
    "\n",
    "conn.close()"
   ]
  },
  {
   "cell_type": "markdown",
   "id": "519bf703",
   "metadata": {},
   "source": [
    "#### Basic Data Analysis\n",
    "List basic data about the file, which should help to dive deeper into various components in the future. "
   ]
  },
  {
   "cell_type": "code",
   "execution_count": null,
   "id": "ea8fc1bd",
   "metadata": {},
   "outputs": [],
   "source": [
    "#Analyze the resulting DataFrame using pandas\n",
    "print(\"\\nDescriptive Statistics of the Joined DataFrame:\")\n",
    "print(joined_df.describe())"
   ]
  },
  {
   "cell_type": "markdown",
   "id": "6c089bbf",
   "metadata": {},
   "source": [
    "#### Load data on state demographics in the analysed year (2022)\n",
    "This data was retrieved based off estimate from the USA government census. Here is the URL:\n",
    "https://www.census.gov/data/tables/time-series/demo/popest/2020s-state-detail.html#v2022\n",
    "\n",
    "Category options are described here:\n",
    "https://www2.census.gov/programs-surveys/popest/technical-documentation/file-layouts/2020-2022/sc-est2022-alldata6.pdf"
   ]
  },
  {
   "cell_type": "code",
   "execution_count": null,
   "id": "e6900d7f",
   "metadata": {},
   "outputs": [],
   "source": [
    "demographic_df = pd.read_csv('.\\\\DemographicDataPerState.csv')\n",
    "print(demographic_df.describe())"
   ]
  },
  {
   "cell_type": "code",
   "execution_count": null,
   "id": "20d9e9d9",
   "metadata": {},
   "outputs": [],
   "source": [
    "demographic_df.head()"
   ]
  },
  {
   "cell_type": "markdown",
   "id": "f6ab0e9e",
   "metadata": {},
   "source": [
    "Grab a list of all the states from the demographic data so that they can:\n",
    "1. Be combined\n",
    "2. Be used to query for specific data using a loop"
   ]
  },
  {
   "cell_type": "code",
   "execution_count": null,
   "id": "61223fdd",
   "metadata": {},
   "outputs": [],
   "source": [
    "conn = sqlite3.connect(':memory:')\n",
    "\n",
    "#Turn demographic data into a SQL table \n",
    "demographic_df.to_sql('demo_table', conn, index=False, if_exists='replace')\n",
    "\n",
    "query = \"\"\"\n",
    "SELECT DISTINCT NAME\n",
    "FROM demo_table\"\"\"\n",
    "\n",
    "state_names_df = pd.read_sql_query(query, conn)\n",
    "\n",
    "conn.close()"
   ]
  },
  {
   "cell_type": "code",
   "execution_count": null,
   "id": "f58f46c5",
   "metadata": {},
   "outputs": [],
   "source": [
    "#Turn state names into a numpy array for some looping\n",
    "state_names_array = state_names_df.to_numpy()"
   ]
  },
  {
   "cell_type": "markdown",
   "id": "e7369e5a",
   "metadata": {},
   "source": [
    "#### Query for Race based demographic data per state\n",
    "This will allow me to break down the arrest data while being congisant of how different states may have different demographic data. I.e. if Alabama arrests 4 black people, but only has 4, that is way more significant than NY arresting 4 if they have 4000."
   ]
  },
  {
   "cell_type": "code",
   "execution_count": null,
   "id": "09443d56",
   "metadata": {},
   "outputs": [],
   "source": [
    "conn = sqlite3.connect(':memory:')\n",
    "#create a list of all the dataframes to compare the demographics of a state to its arrests\n",
    "state_demo = []\n",
    "\n",
    "#Turn demographic data into a SQL table \n",
    "demographic_df.to_sql('demo_table', conn, index=False, if_exists='replace')\n",
    "\n",
    "for i in range(len(state_names_array)):\n",
    "    \n",
    "    query = f\"\"\"\n",
    "    SELECT RACE, SUM(POPESTIMATE2022) * 100.0 / (SELECT SUM(POPESTIMATE2022) FROM demo_table WHERE NAME LIKE '{state_names_array[i][0]}') as \"Population Percentage\"\n",
    "    FROM demo_table\n",
    "    WHERE NAME LIKE '{state_names_array[i][0]}' \n",
    "    GROUP BY RACE\"\"\"\n",
    "\n",
    "    #create a temporary so a column can be added\n",
    "    temp_df = pd.read_sql_query(query, conn)\n",
    "    \n",
    "    #add said column\n",
    "    temp_df['State'] = state_names_array[i][0]\n",
    "    \n",
    "    #add all dataframes to one group\n",
    "    state_demo.append(temp_df)\n",
    "    \n",
    "    #delete temp_df so no leaking anything\n",
    "    del temp_df\n",
    "\n",
    "    \n",
    "#Grab data for the country as a whole as well\n",
    "\n",
    "query = \"\"\"\n",
    "SELECT RACE, SUM(POPESTIMATE2022) * 100.0 / (SELECT SUM(POPESTIMATE2022) FROM demo_table) as \"Population Percentage\"\n",
    "FROM demo_table \n",
    "GROUP BY RACE\"\"\"\n",
    "\n",
    "#create a temporary so a column can be added\n",
    "temp_df = pd.read_sql_query(query, conn)\n",
    "\n",
    "#add said column\n",
    "temp_df['State'] = \"Total\"\n",
    "\n",
    "#add all dataframes to one group\n",
    "state_demo.append(temp_df)\n",
    "\n",
    "#delete temp_df so no leaking anything\n",
    "del temp_df\n",
    "\n",
    "conn.close()\n",
    "\n",
    "# Concatenate all DataFrames in the list into a single DataFrame\n",
    "demo_df = pd.concat(state_demo, ignore_index=True)"
   ]
  },
  {
   "cell_type": "code",
   "execution_count": null,
   "id": "cce60fdf",
   "metadata": {},
   "outputs": [],
   "source": [
    "demo_df.to_csv(\"demogaphic_data.csv\",index=False)"
   ]
  },
  {
   "cell_type": "code",
   "execution_count": null,
   "id": "0008cd72",
   "metadata": {},
   "outputs": [],
   "source": []
  }
 ],
 "metadata": {
  "kernelspec": {
   "display_name": "Python 3 (ipykernel)",
   "language": "python",
   "name": "python3"
  },
  "language_info": {
   "codemirror_mode": {
    "name": "ipython",
    "version": 3
   },
   "file_extension": ".py",
   "mimetype": "text/x-python",
   "name": "python",
   "nbconvert_exporter": "python",
   "pygments_lexer": "ipython3",
   "version": "3.11.2"
  }
 },
 "nbformat": 4,
 "nbformat_minor": 5
}
